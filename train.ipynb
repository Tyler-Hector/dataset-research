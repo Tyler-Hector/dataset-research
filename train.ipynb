{
 "cells": [
  {
   "cell_type": "code",
   "execution_count": 4,
   "id": "d003982b",
   "metadata": {},
   "outputs": [
    {
     "name": "stderr",
     "output_type": "stream",
     "text": [
      "c:\\Users\\debas\\anaconda3\\Lib\\site-packages\\keras\\src\\layers\\rnn\\rnn.py:199: UserWarning: Do not pass an `input_shape`/`input_dim` argument to a layer. When using Sequential models, prefer using an `Input(shape)` object as the first layer in the model instead.\n",
      "  super().__init__(**kwargs)\n"
     ]
    },
    {
     "name": "stdout",
     "output_type": "stream",
     "text": [
      "Epoch 1/3\n",
      "\u001b[1m93139/93139\u001b[0m \u001b[32m━━━━━━━━━━━━━━━━━━━━\u001b[0m\u001b[37m\u001b[0m \u001b[1m823s\u001b[0m 9ms/step - loss: 0.0103 - val_loss: 0.0130\n",
      "Epoch 2/3\n",
      "\u001b[1m93139/93139\u001b[0m \u001b[32m━━━━━━━━━━━━━━━━━━━━\u001b[0m\u001b[37m\u001b[0m \u001b[1m594s\u001b[0m 6ms/step - loss: 0.0094 - val_loss: 0.0112\n",
      "Epoch 3/3\n",
      "\u001b[1m93139/93139\u001b[0m \u001b[32m━━━━━━━━━━━━━━━━━━━━\u001b[0m\u001b[37m\u001b[0m \u001b[1m577s\u001b[0m 6ms/step - loss: 0.0090 - val_loss: 0.0103\n"
     ]
    }
   ],
   "source": [
    "import numpy as np\n",
    "import pandas as pd\n",
    "from sklearn.preprocessing import StandardScaler\n",
    "from tensorflow.keras.models import Sequential\n",
    "from tensorflow.keras.layers import LSTM, Dense\n",
    "from sklearn.model_selection import train_test_split\n",
    "import joblib\n",
    "import glob  # for file matching\n",
    "\n",
    "# List all CSV files you want to load (adjust path/pattern)\n",
    "file_paths = glob.glob(r\"C:\\Users\\debas\\AIRTRAJ\\dataset-research\\Data Preprocessing\\Oslo\\processed_data\\*.csv\")\n",
    "\n",
    "# Load and concatenate all files\n",
    "df_list = []\n",
    "for file in file_paths:\n",
    "    temp_df = pd.read_csv(file)\n",
    "    df_list.append(temp_df)\n",
    "\n",
    "# Combine all data into a single DataFrame\n",
    "df = pd.concat(df_list, ignore_index=True)\n",
    "\n",
    "# Use only these 4 features for input & prediction\n",
    "features = ['lat', 'lon', 'alt', 'time']\n",
    "data = df[features]\n",
    "\n",
    "# Scale all features\n",
    "scaler = StandardScaler()\n",
    "data_scaled = scaler.fit_transform(data)\n",
    "\n",
    "# Save the scaler for later use\n",
    "joblib.dump(scaler, \"coord_scaler.pkl\")\n",
    "\n",
    "# Create sequences function (unchanged)\n",
    "def create_sequences(data, seq_length=10):\n",
    "    X, y = [], []\n",
    "    for i in range(len(data) - seq_length):\n",
    "        X.append(data[i:i+seq_length])\n",
    "        y.append(data[i+seq_length])  # Next timestep\n",
    "    return np.array(X), np.array(y)\n",
    "\n",
    "SEQ_LENGTH = 10\n",
    "X, y = create_sequences(data_scaled, SEQ_LENGTH)\n",
    "\n",
    "# Split data (no shuffle to preserve time order)\n",
    "X_train, X_test, y_train, y_test = train_test_split(X, y, test_size=0.2, shuffle=False)\n",
    "\n",
    "# Build LSTM model\n",
    "model = Sequential([\n",
    "    LSTM(64, input_shape=(SEQ_LENGTH, len(features)), activation='tanh'),\n",
    "    Dense(4)  # Output: lat, lon, alt, time\n",
    "])\n",
    "\n",
    "model.compile(optimizer='adam', loss='mse')\n",
    "\n",
    "# Train\n",
    "model.fit(X_train, y_train, epochs=3, batch_size=32, validation_split=0.1)\n",
    "\n",
    "# Save model using new .keras format\n",
    "model.save(\"coord_predictor.keras\")\n"
   ]
  }
 ],
 "metadata": {
  "kernelspec": {
   "display_name": "base",
   "language": "python",
   "name": "python3"
  },
  "language_info": {
   "codemirror_mode": {
    "name": "ipython",
    "version": 3
   },
   "file_extension": ".py",
   "mimetype": "text/x-python",
   "name": "python",
   "nbconvert_exporter": "python",
   "pygments_lexer": "ipython3",
   "version": "3.13.5"
  }
 },
 "nbformat": 4,
 "nbformat_minor": 5
}
